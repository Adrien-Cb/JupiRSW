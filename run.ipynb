{
 "cells": [
  {
   "cell_type": "code",
   "execution_count": null,
   "metadata": {},
   "outputs": [],
   "source": [
    "# Add the 'src' directory to the Python path\n",
    "import os\n",
    "import sys\n",
    "sys.path.insert(0, os.path.abspath('src'))"
   ]
  },
  {
   "cell_type": "code",
   "execution_count": null,
   "metadata": {},
   "outputs": [],
   "source": [
    "import matplotlib.pyplot as plt \n",
    "from model import Model, open_dataset\n",
    "import plot"
   ]
  },
  {
   "cell_type": "code",
   "execution_count": null,
   "metadata": {},
   "outputs": [],
   "source": [
    "# Run model \n",
    "\n",
    "grid_size = 200  # Enter grid size here\n",
    "duration = '1y'  # Enter duration of simulation here\n",
    "\n",
    "vort_lat, vort_number = [90, 80], [1, 6]  # Enter initial conditions here (vortex latitudes and number of vortices per latitude)\n",
    "vort_coords = [(85, 45)]  # Or alternatively vortex coordinates (latitude, longitude)\n",
    "\n",
    "m = Model(grid_size)\n",
    "m.initialize(vort_lat=vort_lat, vort_number=vort_number, vort_coords=vort_coords)\n",
    "m.run(duration)"
   ]
  },
  {
   "cell_type": "code",
   "execution_count": null,
   "metadata": {},
   "outputs": [],
   "source": [
    "# Save\n",
    "m.save_nc(filename='myfile')\n",
    "\n",
    "# Load\n",
    "open_dataset('./output/myfile.nc')"
   ]
  },
  {
   "cell_type": "code",
   "execution_count": null,
   "metadata": {},
   "outputs": [],
   "source": [
    "# Plot\n",
    "\n",
    "anim = plot.show_var_anim(m, 'pv', save_as='mp4', title='PV')"
   ]
  },
  {
   "cell_type": "code",
   "execution_count": null,
   "metadata": {},
   "outputs": [],
   "source": [
    "# View animation in the notebook\n",
    "\n",
    "%matplotlib inline\n",
    "\n",
    "plt.rcParams['animation.html'] = 'jshtml'\n",
    "plt.ioff()\n",
    "\n",
    "anim"
   ]
  }
 ],
 "metadata": {
  "kernelspec": {
   "display_name": "Python 3",
   "language": "python",
   "name": "python3"
  },
  "language_info": {
   "codemirror_mode": {
    "name": "ipython",
    "version": 3
   },
   "file_extension": ".py",
   "mimetype": "text/x-python",
   "name": "python",
   "nbconvert_exporter": "python",
   "pygments_lexer": "ipython3",
   "version": "3.11.0"
  }
 },
 "nbformat": 4,
 "nbformat_minor": 2
}
